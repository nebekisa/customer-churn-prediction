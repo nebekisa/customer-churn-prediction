{
 "cells": [
  {
   "cell_type": "markdown",
   "id": "041debb8",
   "metadata": {},
   "source": [
    "# 📌 Title: 2. Data Preprocessing & Feature Engineering\n",
    "# 🎯 Goal: Prepare data for modeling with clean features and handling of edge cases"
   ]
  },
  {
   "cell_type": "markdown",
   "id": "f91bd39c",
   "metadata": {},
   "source": []
  },
  {
   "cell_type": "code",
   "execution_count": 3,
   "id": "737df47f",
   "metadata": {},
   "outputs": [
    {
     "name": "stdout",
     "output_type": "stream",
     "text": [
      "Original shape: (7043, 21)\n"
     ]
    }
   ],
   "source": [
    "import pandas as pd\n",
    "import numpy as np\n",
    "from sklearn.preprocessing import OneHotEncoder, StandardScaler\n",
    "from sklearn.model_selection import train_test_split\n",
    "import joblib\n",
    "import os\n",
    "\n",
    "os.chdir(\"..\")\n",
    "\n",
    "df = pd.read_csv('data/raw/WA_Fn-UseC_-Telco-Customer-Churn.csv')\n",
    "print(f\"Original shape: {df.shape}\")"
   ]
  },
  {
   "cell_type": "code",
   "execution_count": 5,
   "id": "666b3554",
   "metadata": {},
   "outputs": [],
   "source": [
    "df['TotalCharges'] = pd.to_numeric(df['TotalCharges'], errors='coerce')\n",
    "df['TotalCharges'] = df['TotalCharges'].fillna(df['MonthlyCharges'])"
   ]
  },
  {
   "cell_type": "code",
   "execution_count": 6,
   "id": "144d10a8",
   "metadata": {},
   "outputs": [],
   "source": [
    "cols_to_fix = ['OnlineSecurity', 'OnlineBackup', 'DeviceProtection',\n",
    "               'TechSupport', 'StreamingTV', 'StreamingMovies', 'MultipleLines']\n",
    "for col in cols_to_fix:\n",
    "    df[col] = df[col].replace({'No internet service': 'No', 'No phone service': 'No'})"
   ]
  },
  {
   "cell_type": "code",
   "execution_count": 7,
   "id": "af74c159",
   "metadata": {},
   "outputs": [],
   "source": [
    "df.drop('customerID', axis=1, inplace=True)"
   ]
  },
  {
   "cell_type": "code",
   "execution_count": 8,
   "id": "05f299db",
   "metadata": {},
   "outputs": [],
   "source": [
    "df['Monthly_to_Total_Ratio'] = df['MonthlyCharges'] / (df['TotalCharges'] + 1)  # +1 to avoid divide by 0"
   ]
  },
  {
   "cell_type": "code",
   "execution_count": 9,
   "id": "63688fa6",
   "metadata": {},
   "outputs": [],
   "source": [
    "df['TenureGroup'] = pd.cut(df['tenure'], bins=[0,12,24,48,72], labels=['0-1Y','1-2Y','2-4Y','4-6Y'])"
   ]
  },
  {
   "cell_type": "code",
   "execution_count": 10,
   "id": "ec7ceac9",
   "metadata": {},
   "outputs": [],
   "source": [
    "df['HasPremiumServices'] = ((df['InternetService'] != 'No') & \n",
    "                            (df['StreamingTV'] == 'Yes') & \n",
    "                            (df['OnlineBackup'] == 'Yes')).astype(int)"
   ]
  },
  {
   "cell_type": "code",
   "execution_count": 11,
   "id": "63450569",
   "metadata": {},
   "outputs": [],
   "source": [
    "df['IsHighMonthly'] = (df['MonthlyCharges'] > 80).astype(int)"
   ]
  },
  {
   "cell_type": "code",
   "execution_count": 12,
   "id": "bc5f0aad",
   "metadata": {},
   "outputs": [],
   "source": [
    "categorical_cols = df.select_dtypes(include='object').columns.tolist()\n",
    "categorical_cols.remove('Churn')  # Target\n",
    "\n",
    "encoder = OneHotEncoder(sparse_output=False, drop='first', handle_unknown='ignore')\n",
    "encoded_features = encoder.fit_transform(df[categorical_cols])\n",
    "encoded_df = pd.DataFrame(encoded_features, columns=encoder.get_feature_names_out(categorical_cols))"
   ]
  },
  {
   "cell_type": "code",
   "execution_count": 13,
   "id": "9f942469",
   "metadata": {},
   "outputs": [],
   "source": [
    "numerical_df = df[['tenure', 'MonthlyCharges', 'TotalCharges', \n",
    "                   'Monthly_to_Total_Ratio', 'HasPremiumServices', 'IsHighMonthly']]\n",
    "\n",
    "X = pd.concat([numerical_df, encoded_df], axis=1)\n",
    "y = df['Churn'].map({'Yes': 1, 'No': 0})"
   ]
  },
  {
   "cell_type": "code",
   "execution_count": 14,
   "id": "8e675c76",
   "metadata": {},
   "outputs": [],
   "source": [
    "X_train, X_test, y_train, y_test = train_test_split(X, y, test_size=0.2, \n",
    "                                                    stratify=y, random_state=42)"
   ]
  },
  {
   "cell_type": "code",
   "execution_count": 15,
   "id": "8d212d0d",
   "metadata": {},
   "outputs": [
    {
     "name": "stdout",
     "output_type": "stream",
     "text": [
      "Original: [4139 1495] → Balanced: [4139 4139]\n"
     ]
    }
   ],
   "source": [
    "from imblearn.over_sampling import SMOTE\n",
    "\n",
    "smote = SMOTE(random_state=42)\n",
    "X_train_balanced, y_train_balanced = smote.fit_resample(X_train, y_train)\n",
    "\n",
    "print(f\"Original: {np.bincount(y_train)} → Balanced: {np.bincount(y_train_balanced)}\")"
   ]
  },
  {
   "cell_type": "code",
   "execution_count": 16,
   "id": "89cdc08d",
   "metadata": {},
   "outputs": [
    {
     "name": "stdout",
     "output_type": "stream",
     "text": [
      "✅ Preprocessing complete! Files saved.\n"
     ]
    }
   ],
   "source": [
    "# Save datasets\n",
    "pd.concat([X_train_balanced, y_train_balanced], axis=1).to_csv('data/processed/X_train_balanced.csv', index=False)\n",
    "X_test.to_csv('data/processed/X_test.csv', index=False)\n",
    "y_test.to_csv('data/processed/y_test.csv', index=False)\n",
    "\n",
    "# Save encoder and feature names for future use\n",
    "joblib.dump(encoder, 'models/onehot_encoder.pkl')\n",
    "joblib.dump(X_train_balanced.columns.tolist(), 'models/feature_columns.pkl')\n",
    "\n",
    "print(\"✅ Preprocessing complete! Files saved.\")"
   ]
  },
  {
   "cell_type": "code",
   "execution_count": null,
   "id": "f7d5ee0a",
   "metadata": {},
   "outputs": [],
   "source": []
  }
 ],
 "metadata": {
  "kernelspec": {
   "display_name": "Python 3",
   "language": "python",
   "name": "python3"
  },
  "language_info": {
   "codemirror_mode": {
    "name": "ipython",
    "version": 3
   },
   "file_extension": ".py",
   "mimetype": "text/x-python",
   "name": "python",
   "nbconvert_exporter": "python",
   "pygments_lexer": "ipython3",
   "version": "3.13.1"
  }
 },
 "nbformat": 4,
 "nbformat_minor": 5
}
